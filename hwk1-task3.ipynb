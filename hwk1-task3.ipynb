{
 "cells": [
  {
   "cell_type": "markdown",
   "metadata": {},
   "source": [
    "# Task 3\n",
    "\n",
    "First, update the following cell to have a link to your Homework 1 GitHub repository:\n"
   ]
  },
  {
   "cell_type": "markdown",
   "metadata": {},
   "source": [
    "\n",
    "**UPDATE THIS LINK:**\n",
    "\n",
    "https://github.com/mariamkg00/eds220-hwk-1"
   ]
  },
  {
   "cell_type": "markdown",
   "metadata": {},
   "source": [
    "\n",
    "In this task, make at least 5 commits at moments you think are adequate. We'll look at your repo to check commit history.\n",
    "\n",
    "Add comments for all your code. Err on the side of commenting too much for now. \n",
    "\n",
    "Comments in each exercise and commits will count towards your grade.\n",
    "\n",
    "This task covers topics we will see on Monday Oct. 9. The best strategy to solve it is to get together with your classmates and work on it together after Monday's lecture."
   ]
  },
  {
   "cell_type": "markdown",
   "metadata": {},
   "source": [
    "\n",
    "## 1\n",
    "For this task we are going to use data about  [Western Indian Ocean Coral Diversity (McClanahan, 2023)](https://knb.ecoinformatics.org/view/doi%3A10.5063%2FF1K35S3H) from the Knowledge Network for Biocomplexity (KNB) data repository. \n",
    "\n",
    "a. Navigate to the dataset's link and explore the data package. \n",
    " \n",
    "b. Use the next markdown cell to add a brief description of the dataset, including a citation, date of access, and a link to the archive. \n"
   ]
  },
  {
   "cell_type": "markdown",
   "metadata": {},
   "source": [
    "This dataset pertains coral cover in the Western Indian Ocean. This dataset's geographic location of data collection included countries such as Madagascar, Tanzania, and parts of Mozambique and Kenya. The data collection lasted from 1998 to 2022. The makers of this dataset were affiliated with the Wildlife Conservation Society, funded by the US Agency for International Development and the US Department of Interior. This dataset aims to help serve as a predictive model for future numbers of coral groups.\n",
    "\n",
    "Tim McClanahan. (2023). Western Indian Ocean Coral Diversity. Knowledge Network for Biocomplexity.doi:10.5063/F1K35S3H.\n",
    "Date of Access: 10 October 2023 \n",
    "Link: https://knb.ecoinformatics.org/view/doi%3A10.5063%2FF1K35S3H#urn%3Auuid%3Ae7d12a5a-f1a9-4a3e-aaa5-5222f67e799d"
   ]
  },
  {
   "cell_type": "markdown",
   "metadata": {},
   "source": [
    "## 2\n",
    "In the next code cell, import the pandas package using standard abbreviation in a code cell.\n",
    "\n",
    "Read in the data from the URL using the `pd.read_csv` function and store it as `coral_div` like this:\n",
    "\n",
    "```\n",
    "# read in data\n",
    "coral_div = pd.read_csv('the URL goes here')\n",
    "```"
   ]
  },
  {
   "cell_type": "code",
   "execution_count": 4,
   "metadata": {
    "tags": [],
    "vscode": {
     "languageId": "python"
    }
   },
   "outputs": [],
   "source": [
    "# importing pandas\n",
    "import pandas as pd \n",
    "\n",
    "# reading in the coral data \n",
    "coral_div = pd.read_csv('https://knb.ecoinformatics.org/knb/d1/mn/v2/object/urn%3Auuid%3Ae7d12a5a-f1a9-4a3e-aaa5-5222f67e799d')"
   ]
  },
  {
   "cell_type": "markdown",
   "metadata": {},
   "source": [
    "## 3\n",
    "\n",
    "Use attributes and methods of the `coral_div` data frame to obtain the following information about it:\n",
    "\n",
    "a. how many rows and columns does it have?\n",
    "\n",
    "b. what are the column names?\n",
    "\n",
    "c. what are the data types of the columns?\n",
    "\n",
    "d. display the first 8 rows with all the column names. For this one, you will need to udpate a `pandas` option (see discussion section)\n",
    "\n",
    "e. some inital info you are interested in. \n",
    "\n",
    "Use the code cells marked a-e. For each, add a comment explaining what is the ouput."
   ]
  },
  {
   "cell_type": "code",
   "execution_count": 7,
   "metadata": {
    "tags": [],
    "vscode": {
     "languageId": "python"
    }
   },
   "outputs": [
    {
     "data": {
      "text/plain": [
       "(575, 42)"
      ]
     },
     "execution_count": 7,
     "metadata": {},
     "output_type": "execute_result"
    }
   ],
   "source": [
    "# a\n",
    "#checking the number of rows and columns of coral_div using shape\n",
    "coral_div.shape\n",
    "#There are 575 rows and 42 columns in this dataframe. "
   ]
  },
  {
   "cell_type": "code",
   "execution_count": 11,
   "metadata": {
    "tags": [],
    "vscode": {
     "languageId": "python"
    }
   },
   "outputs": [
    {
     "data": {
      "text/plain": [
       "Index(['PU_ID', 'PU_Lat', 'PU_Lon', 'Number_of_genera', 'Country', 'Ecoregion',\n",
       "       'Management', 'Habitat', 'Observer', 'Depth', 'Coralcover',\n",
       "       'SSTRateofRise', 'PARmax', 'Calcite', 'Dis_oxygen', 'mean.waveNRJ',\n",
       "       'Salinity_mean', 'andrello_reef_value', 'andrello_nutrients',\n",
       "       'mean.npp', 'TT_market_hrs', 'TT_pop_hrs', 'cumDHW', 'SST_Kurtosis',\n",
       "       'SST_Median', 'ChlorA_median', 'andrello_sediments', 'Current_vel_mean',\n",
       "       'Diff_attenuation', 'Grav_NP', 'Grav_NC', 'PH', 'SST_bimodality',\n",
       "       'SST_Skewness', 'ClimateStressModel', 'Netflow', 'Indegree',\n",
       "       'Outdegree', 'Retention', 'min_yr', 'max_yr', 'no_replicates'],\n",
       "      dtype='object')"
      ]
     },
     "execution_count": 11,
     "metadata": {},
     "output_type": "execute_result"
    }
   ],
   "source": [
    "# b\n",
    "# finding the column names of coral_div using .columns\n",
    "coral_div.columns\n",
    "#The output prints out the names of the 42 columns of the dataframe coral_div."
   ]
  },
  {
   "cell_type": "code",
   "execution_count": null,
   "metadata": {
    "tags": [],
    "vscode": {
     "languageId": "python"
    }
   },
   "outputs": [],
   "source": [
    "# c\n",
    "#using .dtypes to figure out the type each column is. \n",
    "coral_div.dtypes\n",
    "# most of the columns are floats, but some of the columns are integer values and objects (strings)"
   ]
  },
  {
   "cell_type": "code",
   "execution_count": null,
   "metadata": {
    "tags": [],
    "vscode": {
     "languageId": "python"
    }
   },
   "outputs": [],
   "source": [
    "# d\n",
    "#displaying the first 8 rows with all the column names using integer location\n",
    "coral_div.iloc[0:8,:]\n",
    "\n",
    "#displaying the first 8 rows using the head function\n",
    "coral_div.head(8)\n",
    "\n",
    "\n",
    "#these two functions both print out the first 8 rows of the coral_div dataset, while also including all 42 rows.\n",
    "#Python is 0 indexed, so the number of rows is 8, but it ranges from 0-7."
   ]
  },
  {
   "cell_type": "code",
   "execution_count": 24,
   "metadata": {
    "tags": [],
    "vscode": {
     "languageId": "python"
    }
   },
   "outputs": [
    {
     "data": {
      "text/plain": [
       "<bound method Series.info of 0      45\n",
       "1      45\n",
       "2      45\n",
       "3      45\n",
       "4      48\n",
       "       ..\n",
       "570    47\n",
       "571    47\n",
       "572    47\n",
       "573    47\n",
       "574    47\n",
       "Name: Coralcover, Length: 575, dtype: int64>"
      ]
     },
     "execution_count": 24,
     "metadata": {},
     "output_type": "execute_result"
    }
   ],
   "source": [
    "# e\n",
    "#initial information I'm interested in: habitat, SST, coral cover, and ph\n",
    "\n",
    "coral_attributes = coral_div[['Habitat', 'SSTRateofRise','Coralcover','PH','Management']]\n",
    "\n",
    "\n",
    "#printing out the new dataframe I made to see what it entails:\n",
    "coral_attributes\n",
    "\n",
    "coral_attributes['Coralcover'].info\n"
   ]
  },
  {
   "cell_type": "markdown",
   "metadata": {},
   "source": [
    "## 4\n",
    "\n",
    "Some of the columns have data type `int64` and some have data type `float64`. What is the difference between these `int64` and `float64`?\n"
   ]
  },
  {
   "cell_type": "markdown",
   "metadata": {},
   "source": [
    "A column like 'PH' in this dataframe have datatype float64, this is because the values in this column are `floats` meaning that they contain decimal places and are a continuous value, with values that lie within integer values. \n",
    "\n",
    "The 'Coralcover' column in this dataframe have datatype int64, this is because the values in this column are `integers`, they are whole numbers that do *not* contain decimal values, rather whole numbers."
   ]
  },
  {
   "cell_type": "markdown",
   "metadata": {},
   "source": [
    "## 5\n",
    "\n",
    "The `Country` column indicates the country of reef location. Explain in your words what is the ouput of `coral_div.Country` and `coral_div.Country.unique()`. "
   ]
  },
  {
   "cell_type": "markdown",
   "metadata": {},
   "source": [
    "The output of `coral_div.Country` simply prints out the Country column in the dataframe `coral_div`,and `coral_div.Country.unique()` prints out an array of different countries found in this dataset. "
   ]
  },
  {
   "cell_type": "markdown",
   "metadata": {},
   "source": [
    "## 6\n",
    "\n",
    "Check the dataset's [metadata file README_md.doc](https://knb.ecoinformatics.org/view/doi:10.5063/F1K35S3H) to find which column has information about who made an observation. How many observers collected this data? HINT: use the `len` Python function. Not sure what `len` does? Use `?`."
   ]
  },
  {
   "cell_type": "code",
   "execution_count": 31,
   "metadata": {
    "tags": [],
    "vscode": {
     "languageId": "python"
    }
   },
   "outputs": [
    {
     "data": {
      "text/plain": [
       "16"
      ]
     },
     "execution_count": 31,
     "metadata": {},
     "output_type": "execute_result"
    }
   ],
   "source": [
    "# solve exercise here\n",
    "\n",
    "#Looking in the README, I found that the column name is called `Observer`. To find how many observeres collected this data:\n",
    "len(coral_div['Observer'].unique())\n",
    "\n",
    "#There are 16 different observers that collected data in this dataset. "
   ]
  },
  {
   "cell_type": "markdown",
   "metadata": {},
   "source": [
    "## 7\n",
    "\n",
    "The `Coralcover` column indicates the percent of hard coral cover in each 6km reef cell surveyed. What data is `coral_div[coral_div['Coralcover'] >= 50]` selecting?"
   ]
  },
  {
   "cell_type": "markdown",
   "metadata": {},
   "source": [
    "The data that is being selected with `coral_div[coral_div['Coralcover'] >= 50]` is rows within the dataset that contain percent of hard coral cover greater than or equal to fifty percent. "
   ]
  },
  {
   "cell_type": "markdown",
   "metadata": {},
   "source": [
    "## 8\n",
    "\n",
    "Use code to find if there are there any sites with a 30% coral cover in Tanzania."
   ]
  },
  {
   "cell_type": "code",
   "execution_count": 44,
   "metadata": {
    "tags": [],
    "vscode": {
     "languageId": "python"
    }
   },
   "outputs": [
    {
     "data": {
      "text/html": [
       "<div>\n",
       "<style scoped>\n",
       "    .dataframe tbody tr th:only-of-type {\n",
       "        vertical-align: middle;\n",
       "    }\n",
       "\n",
       "    .dataframe tbody tr th {\n",
       "        vertical-align: top;\n",
       "    }\n",
       "\n",
       "    .dataframe thead th {\n",
       "        text-align: right;\n",
       "    }\n",
       "</style>\n",
       "<table border=\"1\" class=\"dataframe\">\n",
       "  <thead>\n",
       "    <tr style=\"text-align: right;\">\n",
       "      <th></th>\n",
       "      <th>PU_ID</th>\n",
       "      <th>PU_Lat</th>\n",
       "      <th>PU_Lon</th>\n",
       "      <th>Number_of_genera</th>\n",
       "      <th>Country</th>\n",
       "      <th>Ecoregion</th>\n",
       "      <th>Management</th>\n",
       "      <th>Habitat</th>\n",
       "      <th>Observer</th>\n",
       "      <th>Depth</th>\n",
       "      <th>...</th>\n",
       "      <th>SST_bimodality</th>\n",
       "      <th>SST_Skewness</th>\n",
       "      <th>ClimateStressModel</th>\n",
       "      <th>Netflow</th>\n",
       "      <th>Indegree</th>\n",
       "      <th>Outdegree</th>\n",
       "      <th>Retention</th>\n",
       "      <th>min_yr</th>\n",
       "      <th>max_yr</th>\n",
       "      <th>no_replicates</th>\n",
       "    </tr>\n",
       "  </thead>\n",
       "  <tbody>\n",
       "    <tr>\n",
       "      <th>63</th>\n",
       "      <td>693</td>\n",
       "      <td>39.391121</td>\n",
       "      <td>-5.782490</td>\n",
       "      <td>10</td>\n",
       "      <td>Tanzania</td>\n",
       "      <td>East African Coral Coast</td>\n",
       "      <td>Fished</td>\n",
       "      <td>Lagoon/Back reef</td>\n",
       "      <td>Nyawira</td>\n",
       "      <td>5.000000</td>\n",
       "      <td>...</td>\n",
       "      <td>0.490512</td>\n",
       "      <td>-0.101724</td>\n",
       "      <td>0.655600</td>\n",
       "      <td>-0.309514</td>\n",
       "      <td>77.00</td>\n",
       "      <td>65.25</td>\n",
       "      <td>147.50</td>\n",
       "      <td>2018</td>\n",
       "      <td>2018</td>\n",
       "      <td>2</td>\n",
       "    </tr>\n",
       "    <tr>\n",
       "      <th>64</th>\n",
       "      <td>697</td>\n",
       "      <td>39.391121</td>\n",
       "      <td>-5.804983</td>\n",
       "      <td>22</td>\n",
       "      <td>Tanzania</td>\n",
       "      <td>East African Coral Coast</td>\n",
       "      <td>Fished</td>\n",
       "      <td>Lagoon/Back reef</td>\n",
       "      <td>Nyawira</td>\n",
       "      <td>9.166667</td>\n",
       "      <td>...</td>\n",
       "      <td>0.490769</td>\n",
       "      <td>-0.100365</td>\n",
       "      <td>0.683050</td>\n",
       "      <td>-0.309514</td>\n",
       "      <td>77.00</td>\n",
       "      <td>65.25</td>\n",
       "      <td>147.50</td>\n",
       "      <td>2010</td>\n",
       "      <td>2018</td>\n",
       "      <td>3</td>\n",
       "    </tr>\n",
       "    <tr>\n",
       "      <th>341</th>\n",
       "      <td>4294</td>\n",
       "      <td>39.211458</td>\n",
       "      <td>-4.814515</td>\n",
       "      <td>37</td>\n",
       "      <td>Tanzania</td>\n",
       "      <td>East African Coral Coast</td>\n",
       "      <td>Fished</td>\n",
       "      <td>Slope</td>\n",
       "      <td>Nyawira</td>\n",
       "      <td>11.000000</td>\n",
       "      <td>...</td>\n",
       "      <td>0.451293</td>\n",
       "      <td>-0.048992</td>\n",
       "      <td>0.608900</td>\n",
       "      <td>0.514920</td>\n",
       "      <td>46.00</td>\n",
       "      <td>49.50</td>\n",
       "      <td>82.75</td>\n",
       "      <td>2018</td>\n",
       "      <td>2018</td>\n",
       "      <td>1</td>\n",
       "    </tr>\n",
       "    <tr>\n",
       "      <th>342</th>\n",
       "      <td>4299</td>\n",
       "      <td>39.233916</td>\n",
       "      <td>-4.837043</td>\n",
       "      <td>26</td>\n",
       "      <td>Tanzania</td>\n",
       "      <td>East African Coral Coast</td>\n",
       "      <td>Fished</td>\n",
       "      <td>Slope</td>\n",
       "      <td>Nyawira</td>\n",
       "      <td>12.500000</td>\n",
       "      <td>...</td>\n",
       "      <td>0.451293</td>\n",
       "      <td>-0.048992</td>\n",
       "      <td>0.601725</td>\n",
       "      <td>0.514920</td>\n",
       "      <td>46.00</td>\n",
       "      <td>49.50</td>\n",
       "      <td>82.75</td>\n",
       "      <td>2018</td>\n",
       "      <td>2018</td>\n",
       "      <td>2</td>\n",
       "    </tr>\n",
       "    <tr>\n",
       "      <th>343</th>\n",
       "      <td>4302</td>\n",
       "      <td>39.211458</td>\n",
       "      <td>-4.859570</td>\n",
       "      <td>31</td>\n",
       "      <td>Tanzania</td>\n",
       "      <td>East African Coral Coast</td>\n",
       "      <td>Fished</td>\n",
       "      <td>Slope</td>\n",
       "      <td>Nyawira</td>\n",
       "      <td>7.000000</td>\n",
       "      <td>...</td>\n",
       "      <td>0.452402</td>\n",
       "      <td>-0.050477</td>\n",
       "      <td>0.595200</td>\n",
       "      <td>0.514920</td>\n",
       "      <td>46.00</td>\n",
       "      <td>49.50</td>\n",
       "      <td>82.75</td>\n",
       "      <td>2018</td>\n",
       "      <td>2018</td>\n",
       "      <td>1</td>\n",
       "    </tr>\n",
       "    <tr>\n",
       "      <th>344</th>\n",
       "      <td>4303</td>\n",
       "      <td>39.301290</td>\n",
       "      <td>-4.859570</td>\n",
       "      <td>23</td>\n",
       "      <td>Tanzania</td>\n",
       "      <td>East African Coral Coast</td>\n",
       "      <td>Fished</td>\n",
       "      <td>Slope</td>\n",
       "      <td>Nyawira</td>\n",
       "      <td>11.000000</td>\n",
       "      <td>...</td>\n",
       "      <td>0.453806</td>\n",
       "      <td>-0.048007</td>\n",
       "      <td>0.602300</td>\n",
       "      <td>0.514920</td>\n",
       "      <td>46.00</td>\n",
       "      <td>49.50</td>\n",
       "      <td>82.75</td>\n",
       "      <td>2018</td>\n",
       "      <td>2018</td>\n",
       "      <td>1</td>\n",
       "    </tr>\n",
       "    <tr>\n",
       "      <th>377</th>\n",
       "      <td>4906</td>\n",
       "      <td>39.660616</td>\n",
       "      <td>-4.972195</td>\n",
       "      <td>33</td>\n",
       "      <td>Tanzania</td>\n",
       "      <td>East African Coral Coast</td>\n",
       "      <td>Fished</td>\n",
       "      <td>Lagoon/Back reef</td>\n",
       "      <td>Nyawira</td>\n",
       "      <td>9.000000</td>\n",
       "      <td>...</td>\n",
       "      <td>0.488396</td>\n",
       "      <td>-0.074229</td>\n",
       "      <td>0.671900</td>\n",
       "      <td>0.156359</td>\n",
       "      <td>66.75</td>\n",
       "      <td>41.75</td>\n",
       "      <td>38.00</td>\n",
       "      <td>2013</td>\n",
       "      <td>2013</td>\n",
       "      <td>2</td>\n",
       "    </tr>\n",
       "    <tr>\n",
       "      <th>388</th>\n",
       "      <td>5049</td>\n",
       "      <td>39.615700</td>\n",
       "      <td>-5.490011</td>\n",
       "      <td>14</td>\n",
       "      <td>Tanzania</td>\n",
       "      <td>East African Coral Coast</td>\n",
       "      <td>Fished</td>\n",
       "      <td>Lagoon/Back reef</td>\n",
       "      <td>Nyawira</td>\n",
       "      <td>4.000000</td>\n",
       "      <td>...</td>\n",
       "      <td>0.489921</td>\n",
       "      <td>-0.109523</td>\n",
       "      <td>0.657000</td>\n",
       "      <td>-0.328399</td>\n",
       "      <td>93.25</td>\n",
       "      <td>57.25</td>\n",
       "      <td>650.25</td>\n",
       "      <td>2018</td>\n",
       "      <td>2018</td>\n",
       "      <td>1</td>\n",
       "    </tr>\n",
       "    <tr>\n",
       "      <th>389</th>\n",
       "      <td>5050</td>\n",
       "      <td>39.638158</td>\n",
       "      <td>-5.490011</td>\n",
       "      <td>18</td>\n",
       "      <td>Tanzania</td>\n",
       "      <td>East African Coral Coast</td>\n",
       "      <td>Fished</td>\n",
       "      <td>Lagoon/Back reef</td>\n",
       "      <td>Nyawira</td>\n",
       "      <td>6.000000</td>\n",
       "      <td>...</td>\n",
       "      <td>0.489921</td>\n",
       "      <td>-0.109523</td>\n",
       "      <td>0.618825</td>\n",
       "      <td>-0.328399</td>\n",
       "      <td>93.25</td>\n",
       "      <td>57.25</td>\n",
       "      <td>650.25</td>\n",
       "      <td>2018</td>\n",
       "      <td>2018</td>\n",
       "      <td>1</td>\n",
       "    </tr>\n",
       "  </tbody>\n",
       "</table>\n",
       "<p>9 rows × 42 columns</p>\n",
       "</div>"
      ],
      "text/plain": [
       "     PU_ID     PU_Lat    PU_Lon  Number_of_genera   Country  \\\n",
       "63     693  39.391121 -5.782490                10  Tanzania   \n",
       "64     697  39.391121 -5.804983                22  Tanzania   \n",
       "341   4294  39.211458 -4.814515                37  Tanzania   \n",
       "342   4299  39.233916 -4.837043                26  Tanzania   \n",
       "343   4302  39.211458 -4.859570                31  Tanzania   \n",
       "344   4303  39.301290 -4.859570                23  Tanzania   \n",
       "377   4906  39.660616 -4.972195                33  Tanzania   \n",
       "388   5049  39.615700 -5.490011                14  Tanzania   \n",
       "389   5050  39.638158 -5.490011                18  Tanzania   \n",
       "\n",
       "                    Ecoregion Management           Habitat Observer  \\\n",
       "63   East African Coral Coast     Fished  Lagoon/Back reef  Nyawira   \n",
       "64   East African Coral Coast     Fished  Lagoon/Back reef  Nyawira   \n",
       "341  East African Coral Coast     Fished             Slope  Nyawira   \n",
       "342  East African Coral Coast     Fished             Slope  Nyawira   \n",
       "343  East African Coral Coast     Fished             Slope  Nyawira   \n",
       "344  East African Coral Coast     Fished             Slope  Nyawira   \n",
       "377  East African Coral Coast     Fished  Lagoon/Back reef  Nyawira   \n",
       "388  East African Coral Coast     Fished  Lagoon/Back reef  Nyawira   \n",
       "389  East African Coral Coast     Fished  Lagoon/Back reef  Nyawira   \n",
       "\n",
       "         Depth  ...  SST_bimodality  SST_Skewness  ClimateStressModel  \\\n",
       "63    5.000000  ...        0.490512     -0.101724            0.655600   \n",
       "64    9.166667  ...        0.490769     -0.100365            0.683050   \n",
       "341  11.000000  ...        0.451293     -0.048992            0.608900   \n",
       "342  12.500000  ...        0.451293     -0.048992            0.601725   \n",
       "343   7.000000  ...        0.452402     -0.050477            0.595200   \n",
       "344  11.000000  ...        0.453806     -0.048007            0.602300   \n",
       "377   9.000000  ...        0.488396     -0.074229            0.671900   \n",
       "388   4.000000  ...        0.489921     -0.109523            0.657000   \n",
       "389   6.000000  ...        0.489921     -0.109523            0.618825   \n",
       "\n",
       "      Netflow  Indegree  Outdegree  Retention  min_yr  max_yr  no_replicates  \n",
       "63  -0.309514     77.00      65.25     147.50    2018    2018              2  \n",
       "64  -0.309514     77.00      65.25     147.50    2010    2018              3  \n",
       "341  0.514920     46.00      49.50      82.75    2018    2018              1  \n",
       "342  0.514920     46.00      49.50      82.75    2018    2018              2  \n",
       "343  0.514920     46.00      49.50      82.75    2018    2018              1  \n",
       "344  0.514920     46.00      49.50      82.75    2018    2018              1  \n",
       "377  0.156359     66.75      41.75      38.00    2013    2013              2  \n",
       "388 -0.328399     93.25      57.25     650.25    2018    2018              1  \n",
       "389 -0.328399     93.25      57.25     650.25    2018    2018              1  \n",
       "\n",
       "[9 rows x 42 columns]"
      ]
     },
     "execution_count": 44,
     "metadata": {},
     "output_type": "execute_result"
    }
   ],
   "source": [
    "#using similar syntax for above, but using == instead to find exactly 30, and setting the country == Tanzania.\n",
    "coral_div[ (coral_div['Coralcover'] == 30) & (coral_div['Country'] == 'Tanzania') ]\n",
    "\n",
    "#There are 9 sites in Tanzania with a 30% coral cover. "
   ]
  },
  {
   "cell_type": "markdown",
   "metadata": {},
   "source": [
    "## 9\n",
    "\n",
    "We are interested in looking at the PH of sea water (`PH` column),  mean salinity (PSS) (`Salinity_mean` column), and depth of survey location in meters (`Depth` column). Select this data. "
   ]
  },
  {
   "cell_type": "code",
   "execution_count": 9,
   "metadata": {
    "vscode": {
     "languageId": "python"
    }
   },
   "outputs": [],
   "source": [
    "# solve exercise here"
   ]
  },
  {
   "cell_type": "markdown",
   "metadata": {},
   "source": [
    "## 10\n",
    "The `max_yr` column indicates the year of last sampling at a given site. Select the PH, salinity, and depth for sites where sampling ended in 2017. \n"
   ]
  },
  {
   "cell_type": "code",
   "execution_count": 10,
   "metadata": {
    "vscode": {
     "languageId": "python"
    }
   },
   "outputs": [],
   "source": [
    "# solve exercise here"
   ]
  },
  {
   "cell_type": "markdown",
   "metadata": {},
   "source": [
    "## 11\n",
    "Use `iloc` to select rows 95 throuhg 100 (including 100) in the 17th, 20th, and 28th columns and assign these values to a new variable called `subset`. HINT: the ouput columns should be `Salinity_mean`, `mean.npp` and `Current_vel_mean`. Are you indexing from 0?"
   ]
  },
  {
   "cell_type": "code",
   "execution_count": 11,
   "metadata": {
    "vscode": {
     "languageId": "python"
    }
   },
   "outputs": [],
   "source": [
    "# solve exercise here"
   ]
  },
  {
   "cell_type": "markdown",
   "metadata": {},
   "source": [
    "## 12 \n",
    "\n",
    "Run `subset.isna()`. Explain what this code does and what the output represents."
   ]
  },
  {
   "cell_type": "markdown",
   "metadata": {},
   "source": [
    "*Update this markdown cell with your answer.*"
   ]
  },
  {
   "cell_type": "markdown",
   "metadata": {},
   "source": [
    "## 13\n",
    "Run `subset.isna().any()`. Explain what this code does and what the output represents. HINT: It could be helpful to check the [documentation of `pandas.Sries.any`](https://pandas.pydata.org/docs/reference/api/pandas.Series.any.html).\n"
   ]
  },
  {
   "cell_type": "markdown",
   "metadata": {},
   "source": [
    "*Update this markdown cell with your answer.*"
   ]
  },
  {
   "cell_type": "markdown",
   "metadata": {},
   "source": [
    "## 14 \n",
    "\n",
    "Select the rows in `subset` that have NA in the `Current_vel_mean` column. HINT: you can use your answer for 9."
   ]
  },
  {
   "cell_type": "code",
   "execution_count": 12,
   "metadata": {
    "vscode": {
     "languageId": "python"
    }
   },
   "outputs": [],
   "source": [
    "# solve exercise here"
   ]
  }
 ],
 "metadata": {
  "kernelspec": {
   "display_name": "Anaconda 3 (Base)",
   "language": "python",
   "name": "base"
  },
  "language_info": {
   "codemirror_mode": {
    "name": "ipython",
    "version": 3
   },
   "file_extension": ".py",
   "mimetype": "text/x-python",
   "name": "python",
   "nbconvert_exporter": "python",
   "pygments_lexer": "ipython3",
   "version": "3.9.13"
  }
 },
 "nbformat": 4,
 "nbformat_minor": 4
}
